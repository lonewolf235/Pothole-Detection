{
 "cells": [
  {
   "cell_type": "code",
   "execution_count": 1,
   "id": "7a864790",
   "metadata": {},
   "outputs": [],
   "source": [
    "import os\n",
    "from PIL import Image\n",
    "\n",
    "# Get the path to the folder containing the images\n",
    "image_folder = \"D:/Datasets/pothole_dataset/Pothole main dataset/train/images\"\n",
    "\n",
    "# Get the width and height of the resized images\n",
    "width = 640\n",
    "height = 640\n",
    "\n",
    "# Iterate over the images in the folder\n",
    "for image in os.listdir(image_folder):\n",
    "\n",
    "    # Open the image\n",
    "    img = Image.open(os.path.join(image_folder, image))\n",
    "\n",
    "    # Resize the image\n",
    "    img = img.resize((width, height))\n",
    "\n",
    "    # Save the resized image\n",
    "    img.save(os.path.join(image_folder, image))\n"
   ]
  },
  {
   "cell_type": "code",
   "execution_count": null,
   "id": "7cfd8bea",
   "metadata": {},
   "outputs": [],
   "source": []
  }
 ],
 "metadata": {
  "kernelspec": {
   "display_name": "Python 3 (ipykernel)",
   "language": "python",
   "name": "python3"
  },
  "language_info": {
   "codemirror_mode": {
    "name": "ipython",
    "version": 3
   },
   "file_extension": ".py",
   "mimetype": "text/x-python",
   "name": "python",
   "nbconvert_exporter": "python",
   "pygments_lexer": "ipython3",
   "version": "3.9.16"
  }
 },
 "nbformat": 4,
 "nbformat_minor": 5
}
